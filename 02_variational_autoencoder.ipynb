{
 "cells": [
  {
   "cell_type": "code",
   "execution_count": 1,
   "id": "81370908-6b18-4a07-81c4-f8fdcc91d0f6",
   "metadata": {
    "tags": []
   },
   "outputs": [
    {
     "name": "stdout",
     "output_type": "stream",
     "text": [
      "/Users/no_lineal/opt/anaconda3/envs/music38/bin/python\n"
     ]
    }
   ],
   "source": [
    "! which python"
   ]
  },
  {
   "cell_type": "code",
   "execution_count": 2,
   "id": "d9a86fd7-b988-4b78-af64-c8ad7d1dc1d1",
   "metadata": {
    "tags": []
   },
   "outputs": [],
   "source": [
    "import torch\n",
    "from torch import nn\n",
    "import torch.nn.functional as F\n",
    "\n",
    "import os"
   ]
  },
  {
   "cell_type": "code",
   "execution_count": 3,
   "id": "6cc94b42-27df-4006-b5af-fc4887039673",
   "metadata": {
    "tags": []
   },
   "outputs": [
    {
     "name": "stdout",
     "output_type": "stream",
     "text": [
      "path: /Users/no_lineal/Documents/GitHub/mir_project/\n",
      "data path: /Users/no_lineal/Documents/GitHub/mir_project/data/nesmdb_midi/\n",
      "train path: /Users/no_lineal/Documents/GitHub/mir_project/data/nesmdb_midi/train/\n",
      "output path: /Users/no_lineal/Documents/GitHub/mir_project/output/\n"
     ]
    }
   ],
   "source": [
    "\"\"\"\n",
    "\n",
    "    where am i?\n",
    "\n",
    "\"\"\"\n",
    "\n",
    "PATH = os.getcwd() + '/'\n",
    "data_path = PATH + 'data/nesmdb_midi/'\n",
    "\n",
    "train_path = data_path + 'train/'\n",
    "\n",
    "output_path =  PATH + 'output/'\n",
    "\n",
    "print(f'path: {PATH}')\n",
    "print(f'data path: {data_path}')\n",
    "print(f'train path: {train_path}')\n",
    "print(f'output path: {output_path}')"
   ]
  },
  {
   "cell_type": "code",
   "execution_count": 4,
   "id": "9c02ea7d-4d78-49ff-bbc9-1299a1d5cba3",
   "metadata": {
    "tags": []
   },
   "outputs": [
    {
     "name": "stdout",
     "output_type": "stream",
     "text": [
      "device: cpu\n"
     ]
    }
   ],
   "source": [
    "\"\"\"\n",
    "\n",
    "    device\n",
    "\n",
    "\"\"\"\n",
    "\n",
    "device = 'cuda' if torch.cuda.is_available() else 'cpu'\n",
    "\n",
    "print(f'device: {device}')"
   ]
  },
  {
   "cell_type": "code",
   "execution_count": 5,
   "id": "5fa93ea4-cd24-4a33-99c0-510debd31ff1",
   "metadata": {
    "tags": []
   },
   "outputs": [],
   "source": [
    "\"\"\"\n",
    "\n",
    "    encode/decode\n",
    "\n",
    "\"\"\"\n",
    "\n",
    "class Encoder(nn.Module):\n",
    "    \n",
    "    def __init__(self, latent_dims):\n",
    "        \n",
    "        super(Encoder, self).__init__()\n",
    "        \n",
    "        self.linear1 = nn.Linear(784, 512)\n",
    "        self.linear2 = nn.Linear(512, latent_dims)\n",
    "\n",
    "    def forward(self, x):\n",
    "        \n",
    "        x = torch.flatten(x, start_dim=1)\n",
    "        x = F.relu(self.linear1(x))\n",
    "        \n",
    "        return self.linear2(x)\n",
    "\n",
    "class Decoder(nn.Module):\n",
    "    \n",
    "    def __init__(self, latent_dims):\n",
    "        \n",
    "        super(Decoder, self).__init__()\n",
    "        \n",
    "        self.linear1 = nn.Linear(latent_dims, 512)\n",
    "        self.linear2 = nn.Linear(512, 784)\n",
    "\n",
    "    def forward(self, z):\n",
    "        \n",
    "        z = F.relu(self.linear1(z))\n",
    "        z = torch.sigmoid(self.linear2(z))\n",
    "        \n",
    "        return z.reshape((-1, 1, 28, 28))"
   ]
  },
  {
   "cell_type": "code",
   "execution_count": 6,
   "id": "022b6f58-db34-4506-9de3-edea5fdb9a66",
   "metadata": {
    "tags": []
   },
   "outputs": [],
   "source": [
    "\"\"\"\n",
    "\n",
    "    autoencoder\n",
    "\n",
    "\"\"\"\n",
    "\n",
    "class Autoencoder(nn.Module):\n",
    "    \n",
    "    def __init__(self, latent_dims):\n",
    "        \n",
    "        super(Autoencoder, self).__init__()\n",
    "        \n",
    "        self.encoder = Encoder(latent_dims)\n",
    "        self.decoder = Decoder(latent_dims)\n",
    "\n",
    "    def forward(self, x):\n",
    "        \n",
    "        z = self.encoder(x)\n",
    "        \n",
    "        return self.decoder(z)"
   ]
  },
  {
   "cell_type": "code",
   "execution_count": 7,
   "id": "32292ac2-ec53-4584-949e-c9bc1a4b2592",
   "metadata": {
    "tags": []
   },
   "outputs": [],
   "source": [
    "\"\"\"\n",
    "\n",
    "    train autoencoder\n",
    "\n",
    "\"\"\"\n",
    "\n",
    "def train(autoencoder, data, epochs=20):\n",
    "    \n",
    "    opt = torch.optim.Adam(autoencoder.parameters())\n",
    "    \n",
    "    for epoch in range(epochs):\n",
    "        \n",
    "        for x, y in data:\n",
    "            \n",
    "            x = x.to(device) # GPU\n",
    "            opt.zero_grad()\n",
    "            x_hat = autoencoder(x)\n",
    "            loss = ((x - x_hat)**2).sum()\n",
    "            loss.backward()\n",
    "            opt.step()\n",
    "            \n",
    "    return autoencoder"
   ]
  },
  {
   "cell_type": "code",
   "execution_count": null,
   "id": "8b277724-54ec-4883-864f-6a2f3c1ee848",
   "metadata": {},
   "outputs": [],
   "source": []
  }
 ],
 "metadata": {
  "kernelspec": {
   "display_name": "Python 3 (ipykernel)",
   "language": "python",
   "name": "python3"
  },
  "language_info": {
   "codemirror_mode": {
    "name": "ipython",
    "version": 3
   },
   "file_extension": ".py",
   "mimetype": "text/x-python",
   "name": "python",
   "nbconvert_exporter": "python",
   "pygments_lexer": "ipython3",
   "version": "3.8.16"
  }
 },
 "nbformat": 4,
 "nbformat_minor": 5
}
